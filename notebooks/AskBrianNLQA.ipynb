{
 "cells": [
  {
   "cell_type": "markdown",
   "metadata": {},
   "source": [
    "# Import libraries"
   ]
  },
  {
   "cell_type": "code",
   "execution_count": 5,
   "metadata": {},
   "outputs": [],
   "source": [
    "import transformers \n",
    "from transformers import pipeline\n",
    "import pytesseract\n",
    "import PIL "
   ]
  },
  {
   "cell_type": "markdown",
   "metadata": {},
   "source": [
    "# Question answering model"
   ]
  },
  {
   "cell_type": "code",
   "execution_count": 2,
   "metadata": {},
   "outputs": [
    {
     "name": "stderr",
     "output_type": "stream",
     "text": [
      "No model was supplied, defaulted to distilbert-base-cased-distilled-squad (https://huggingface.co/distilbert-base-cased-distilled-squad)\n"
     ]
    }
   ],
   "source": [
    "qna_model = pipeline(\"question-answering\")"
   ]
  },
  {
   "cell_type": "markdown",
   "metadata": {},
   "source": [
    "# Create NLQA Engine"
   ]
  },
  {
   "cell_type": "code",
   "execution_count": 6,
   "metadata": {},
   "outputs": [],
   "source": [
    "class NLQA:\n",
    "\n",
    "    def __init__(self, image_path):\n",
    "        self.image_path = image_path\n",
    "\n",
    "    def optical_character_recognition(self):\n",
    "        context = pytesseract.image_to_string(PIL.Image.open(self.image_path))\n",
    "        return context\n",
    "\n",
    "    def question_answering(self, query):\n",
    "        response = qna_model(context=self.optical_character_recognition(), question=query)\n",
    "        return {'answer': response['answer'], \n",
    "               'confidence':response['score']}"
   ]
  },
  {
   "cell_type": "code",
   "execution_count": null,
   "metadata": {},
   "outputs": [],
   "source": []
  }
 ],
 "metadata": {
  "interpreter": {
   "hash": "15b665018b4f4da1f3a80b98561ff27ef6fc8bfe3b1ca9cd8cbd22f129282d85"
  },
  "kernelspec": {
   "display_name": "Python 3.7.11 64-bit ('mathgeek': conda)",
   "language": "python",
   "name": "python3"
  },
  "language_info": {
   "codemirror_mode": {
    "name": "ipython",
    "version": 3
   },
   "file_extension": ".py",
   "mimetype": "text/x-python",
   "name": "python",
   "nbconvert_exporter": "python",
   "pygments_lexer": "ipython3",
   "version": "3.7.11"
  },
  "orig_nbformat": 4
 },
 "nbformat": 4,
 "nbformat_minor": 2
}
